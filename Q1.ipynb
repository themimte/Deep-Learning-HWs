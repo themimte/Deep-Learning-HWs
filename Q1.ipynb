{
  "cells": [
    {
      "cell_type": "markdown",
      "metadata": {
        "id": "yMruhhvMDSXO"
      },
      "source": [
        "<div align=center>\n",
        "\t\t\n",
        "<p></p>\n",
        "<p></p>\n",
        "<font size=5>\n",
        "In the Name of God\n",
        "<font/>\n",
        "<p></p>\n",
        " <br/>\n",
        "    <br/>\n",
        "    <br/>\n",
        "<font color=#FF7500>\n",
        "Sharif University of Technology - Departmenet of Computer Engineering\n",
        "</font>\n",
        "<p></p>\n",
        "<font color=blue>\n",
        "Artifical Intelligence - Dr. Mohammad Hossein Rohban\n",
        "</font>\n",
        "<br/>\n",
        "<br/>\n",
        "Fall 2021\n",
        "\n",
        "</div>\n",
        "\n",
        "<hr/>\n",
        "\t\t<div align=center>\n",
        "\t\t    <font color=red size=6>\n",
        "\t\t\t    <br />\n",
        "Practical Assignment 4 Naive Bayes\n",
        "            \t<br/>\n",
        "\t\t\t</font>\n",
        "    <br/>\n",
        "    <br/>\n",
        "<font size=4> \n",
        "                <br/><b>\n",
        "              Cheating is Strongly Prohibited\n",
        "                </b><br/><br/>\n",
        "                <font color=red>\n",
        "Please run all the cells.\n",
        "     </font>\n",
        "</font>\n",
        "                <br/>\n",
        "    </div>"
      ]
    },
    {
      "cell_type": "markdown",
      "metadata": {
        "id": "c7WLjxFeDSXY"
      },
      "source": [
        "# Personal Data"
      ]
    },
    {
      "cell_type": "code",
      "source": [
        "! wget https://sut-ai.github.io/resources/problem_sets/rohban_f2021/mini_project/MP4/MPQ4.zip\n",
        "! unzip MPQ4.zip\n",
        "! cp -r Practical/Helper_codes .\n",
        "! rm Theoretical.pdf\n",
        "! rm -r Practical\n",
        "! rm MPQ4.zip"
      ],
      "metadata": {
        "colab": {
          "base_uri": "https://localhost:8080/"
        },
        "id": "UL60esYMfybz",
        "outputId": "8448ae70-d142-46ca-c450-45a335bb6fdd"
      },
      "execution_count": null,
      "outputs": [
        {
          "output_type": "stream",
          "name": "stdout",
          "text": [
            "--2022-01-02 20:35:33--  https://sut-ai.github.io/resources/problem_sets/rohban_f2021/mini_project/MP4/MPQ4.zip\n",
            "Resolving sut-ai.github.io (sut-ai.github.io)... 185.199.108.153, 185.199.109.153, 185.199.110.153, ...\n",
            "Connecting to sut-ai.github.io (sut-ai.github.io)|185.199.108.153|:443... connected.\n",
            "HTTP request sent, awaiting response... 200 OK\n",
            "Length: 311027 (304K) [application/zip]\n",
            "Saving to: ‘MPQ4.zip.1’\n",
            "\n",
            "\rMPQ4.zip.1            0%[                    ]       0  --.-KB/s               \rMPQ4.zip.1          100%[===================>] 303.74K  --.-KB/s    in 0.02s   \n",
            "\n",
            "2022-01-02 20:35:33 (13.7 MB/s) - ‘MPQ4.zip.1’ saved [311027/311027]\n",
            "\n",
            "Archive:  MPQ4.zip\n",
            "   creating: Practical/\n",
            "  inflating: __MACOSX/._Practical    \n",
            "  inflating: Practical/Q1.ipynb      \n",
            "  inflating: __MACOSX/Practical/._Q1.ipynb  \n",
            "  inflating: Practical/Q3.ipynb      \n",
            "   creating: Practical/Helper_codes/\n",
            "  inflating: __MACOSX/Practical/._Helper_codes  \n",
            "  inflating: Practical/Q2.ipynb      \n",
            "  inflating: __MACOSX/Practical/._Q2.ipynb  \n",
            "  inflating: Practical/Helper_codes/validator.py  \n",
            "  inflating: __MACOSX/Practical/Helper_codes/._validator.py  \n",
            "  inflating: Practical/Helper_codes/ae_helper.py  \n",
            "  inflating: __MACOSX/Practical/Helper_codes/._ae_helper.py  \n",
            "  inflating: Theoretical.pdf         \n",
            "  inflating: __MACOSX/._Theoretical.pdf  \n"
          ]
        }
      ]
    },
    {
      "cell_type": "code",
      "execution_count": null,
      "metadata": {
        "collectable": true,
        "execution": {
          "iopub.execute_input": "2021-10-01T16:01:36.762477Z",
          "iopub.status.busy": "2021-10-01T16:01:36.762155Z",
          "iopub.status.idle": "2021-10-01T16:01:36.764025Z",
          "shell.execute_reply": "2021-10-01T16:01:36.763754Z"
        },
        "id": "pUg7Biv0DSXa"
      },
      "outputs": [],
      "source": [
        "# Set your student number\n",
        "student_number = 96101902\n",
        "Name = 'Mohammadreza'\n",
        "Last_Name = 'Taremi'"
      ]
    },
    {
      "cell_type": "markdown",
      "metadata": {
        "id": "mBt6pSN0DSXc"
      },
      "source": [
        "# Rules\n",
        "- You **are** allowed to add or remove cells.\n",
        "- By running the cell below, you can see if your jupyter file is accepted or not. This cell will also **generate a python file which you'll have to upload to Quera** (as well as your jupyter file). The python file will later be validated and if the code in both files doesn't match, **your Practical Assignment won't be graded**."
      ]
    },
    {
      "cell_type": "code",
      "execution_count": null,
      "metadata": {
        "colab": {
          "base_uri": "https://localhost:8080/",
          "height": 494
        },
        "id": "_6MarvFVDSXd",
        "outputId": "e330d20f-7483-40b3-e5a5-82e957bb3177"
      },
      "outputs": [
        {
          "output_type": "error",
          "ename": "ImportError",
          "evalue": "ignored",
          "traceback": [
            "\u001b[0;31m---------------------------------------------------------------------------\u001b[0m",
            "\u001b[0;31mImportError\u001b[0m                               Traceback (most recent call last)",
            "\u001b[0;32m<ipython-input-33-9cfc96c1d059>\u001b[0m in \u001b[0;36m<module>\u001b[0;34m()\u001b[0m\n\u001b[1;32m      1\u001b[0m \u001b[0;31m# remember to save your jupyter file before running this script\u001b[0m\u001b[0;34m\u001b[0m\u001b[0;34m\u001b[0m\u001b[0;34m\u001b[0m\u001b[0m\n\u001b[0;32m----> 2\u001b[0;31m \u001b[0;32mfrom\u001b[0m \u001b[0mHelper_codes\u001b[0m\u001b[0;34m.\u001b[0m\u001b[0mvalidator\u001b[0m \u001b[0;32mimport\u001b[0m \u001b[0;34m*\u001b[0m\u001b[0;34m\u001b[0m\u001b[0;34m\u001b[0m\u001b[0m\n\u001b[0m\u001b[1;32m      3\u001b[0m \u001b[0;34m\u001b[0m\u001b[0m\n\u001b[1;32m      4\u001b[0m \u001b[0mpython_code\u001b[0m \u001b[0;34m=\u001b[0m \u001b[0mextract_python\u001b[0m\u001b[0;34m(\u001b[0m\u001b[0;34m\"./Q1.ipynb\"\u001b[0m\u001b[0;34m)\u001b[0m\u001b[0;34m\u001b[0m\u001b[0;34m\u001b[0m\u001b[0m\n\u001b[1;32m      5\u001b[0m \u001b[0;32mwith\u001b[0m \u001b[0mopen\u001b[0m\u001b[0;34m(\u001b[0m\u001b[0;34mf'python_code_Q1_{student_number}.py'\u001b[0m\u001b[0;34m,\u001b[0m \u001b[0;34m'w'\u001b[0m\u001b[0;34m)\u001b[0m \u001b[0;32mas\u001b[0m \u001b[0mfile\u001b[0m\u001b[0;34m:\u001b[0m\u001b[0;34m\u001b[0m\u001b[0;34m\u001b[0m\u001b[0m\n",
            "\u001b[0;32m/content/Helper_codes/validator.py\u001b[0m in \u001b[0;36m<module>\u001b[0;34m()\u001b[0m\n\u001b[1;32m      1\u001b[0m \u001b[0;32mimport\u001b[0m \u001b[0mjson\u001b[0m\u001b[0;34m\u001b[0m\u001b[0;34m\u001b[0m\u001b[0m\n\u001b[0;32m----> 2\u001b[0;31m \u001b[0;32mfrom\u001b[0m \u001b[0mtypes\u001b[0m \u001b[0;32mimport\u001b[0m \u001b[0mCellType\u001b[0m\u001b[0;34m\u001b[0m\u001b[0;34m\u001b[0m\u001b[0m\n\u001b[0m\u001b[1;32m      3\u001b[0m \u001b[0;32mimport\u001b[0m \u001b[0mre\u001b[0m\u001b[0;34m\u001b[0m\u001b[0;34m\u001b[0m\u001b[0m\n\u001b[1;32m      4\u001b[0m \u001b[0;34m\u001b[0m\u001b[0m\n\u001b[1;32m      5\u001b[0m \u001b[0;34m\u001b[0m\u001b[0m\n",
            "\u001b[0;31mImportError\u001b[0m: cannot import name 'CellType' from 'types' (/usr/lib/python3.7/types.py)",
            "",
            "\u001b[0;31m---------------------------------------------------------------------------\u001b[0;32m\nNOTE: If your import is failing due to a missing package, you can\nmanually install dependencies using either !pip or !apt.\n\nTo view examples of installing some common dependencies, click the\n\"Open Examples\" button below.\n\u001b[0;31m---------------------------------------------------------------------------\u001b[0m\n"
          ],
          "errorDetails": {
            "actions": [
              {
                "action": "open_url",
                "actionText": "Open Examples",
                "url": "/notebooks/snippets/importing_libraries.ipynb"
              }
            ]
          }
        }
      ],
      "source": [
        "# remember to save your jupyter file before running this script\n",
        "from Helper_codes.validator import *\n",
        "\n",
        "python_code = extract_python(\"./Q1.ipynb\")\n",
        "with open(f'python_code_Q1_{student_number}.py', 'w') as file:\n",
        "    file.write(python_code)"
      ]
    },
    {
      "cell_type": "markdown",
      "metadata": {
        "id": "XkoS463ZDSXe"
      },
      "source": [
        "# Gaussian Naive Bayes (40 Points)"
      ]
    },
    {
      "cell_type": "markdown",
      "metadata": {
        "id": "QMlE5eipDSXe"
      },
      "source": [
        "<font size=4>\n",
        "Author: Kimia Noorbakhsh\n",
        "\t\t\t<br/>\n",
        "                <font color=red>\n",
        "Please run all the cells.\n",
        "     </font>\n",
        "</font>\n",
        "                <br/>\n",
        "    </div>"
      ]
    },
    {
      "cell_type": "markdown",
      "metadata": {
        "id": "P2ORpMqXDSXg"
      },
      "source": [
        "In this assignment, you are going to implement a Naive Bayes Classifier for the MNIST Dataset (Well, of course, **from scratch**!). The MNIST data set is a vast database of handwritten digits that is commonly used to form various image processing systems. \n",
        "\n",
        "Please note the following before you continue:\n",
        "- After implementing your Classifier, train your model on the **train** section of the MNIST dataset and validate your model by testing it on the test set.\n",
        "- Note that if you use any of the **test** images during training or for improving the accuracy, you will not earn any points for this assignment. \n",
        "- Do not forget to use **Laplace Smoothing** to avoid overfitting."
      ]
    },
    {
      "cell_type": "markdown",
      "metadata": {
        "id": "eIZH12D3DSXh"
      },
      "source": [
        "Recall Bayes rule:\n",
        "    $$P(c|x) =  \\frac{P(x|c)P(c)}{P(x)} \\;\\;\\;\\;(1)$$\n",
        "    \n",
        "Here $x$ stands for the image, or more precisely, the pixel values of the formatted image as a vector, and $c$ stands for the number, which can be 0, 1, ..., 9. We can read the left side $P(c|x)$ as \"the probability of the class being $c$ given the $x$\" data (posterior). We can read the right side $P(x|c)$ as \"the probability of $x$ data being in the $c$\" class (likelihood). We care about the value of $c$. It tells us \"what number\" this picture is. The chosen class is simply the one with the highest probability for this data:\n",
        "$$c^* = argmax_{c}P(c|x)$$\n",
        "Now, we can ignore $P(x)$ in equation (1) (why?). Using this information, we can simplify our problem so that, in order to choose “which digit” given an image, all we need to do is calculate this argmax (P(x) is removed):\n",
        "$$c^* = argmax_{c}P(x|c)P(c)$$\n",
        "Now, we need to think about how to calculate $P(c)$, and $P(x|c)$. We leave this section for you to think about ^_^. But as a guide for $P(x|c)$, read the following. \n",
        "\n",
        "Remember that pixels represent the intensity of light, and that the intensity of light is in fact continuous. A first reasonable estimation to model continuous data is the multivariate Gaussian or multivariate Normal. We can write:\n",
        "$$P(x|c) = \\frac{1}{\\sqrt{(2\\pi)^{D}|\\Sigma|}}\\exp(-\\frac{1}{2}(x - \\mu)^{T}\\Sigma^{-1}(x-\\mu))$$\n",
        "Note that because probabilities are very small when dimensionality is high, we are going to work with log-probability rather than probability. So instead of getting numbers that are very close to 0, which is inaccurate when you use a computer to represent them, we're just going to get negative numbers. The log-probability can be represented as ($D$ is the dimentionality):\n",
        "$$\\log{P(x|c) = -\\frac{D}{2}\\ln(2\\pi)-\\frac{1}{2}\\ln|\\Sigma|-\\frac{1}{2}(x - \\mu)^{T}\\Sigma^{-1}(x-\\mu)}$$\n",
        "To calculate $\\mu$ and $\\Sigma$, you can use the **sample** mean and covariance (see [here.](https://en.wikipedia.org/wiki/Sample_mean_and_covariance)) Also note that to get the argmax over $P(x|c)P(c)$, we can choose the digit class using:\n",
        "$$c^* = argmax_{c}(\\log P(x|c)+\\log P(c))$$\n",
        "Now, let's dive into implementing a **Gaussian Naive Bayes Classifier.**"
      ]
    },
    {
      "cell_type": "markdown",
      "metadata": {
        "id": "4hbb_ypiDSXi"
      },
      "source": [
        "## Loading data"
      ]
    },
    {
      "cell_type": "markdown",
      "metadata": {
        "collectable": true,
        "id": "UwaG7DUvDSXj"
      },
      "source": [
        "For your convineince, use the following cells to access the data. "
      ]
    },
    {
      "cell_type": "code",
      "execution_count": null,
      "metadata": {
        "id": "YowfylELDSXk"
      },
      "outputs": [],
      "source": [
        "# !pip install torchvision\n",
        "# !pip install numpy\n",
        "# # and other libraries you might need\n",
        "\n",
        "from torchvision import datasets\n",
        "import numpy as np\n",
        "from scipy.stats import multivariate_normal"
      ]
    },
    {
      "cell_type": "code",
      "execution_count": null,
      "metadata": {
        "id": "96IWmt84DSXk"
      },
      "outputs": [],
      "source": [
        "train_data = datasets.MNIST('./data', train=True, download=True)\n",
        "test_data  = datasets.MNIST('./data', train=False, download=True)\n",
        "\n",
        "train_images = np.array(train_data.data)\n",
        "train_labels = np.array(train_data.targets)\n",
        "test_images = np.array(test_data.data)\n",
        "test_labels = np.array(test_data.targets)"
      ]
    },
    {
      "cell_type": "markdown",
      "metadata": {
        "id": "zAHQpukADSXl"
      },
      "source": [
        "## Training the Model"
      ]
    },
    {
      "cell_type": "code",
      "execution_count": null,
      "metadata": {
        "id": "H2WcWH_RDSXl"
      },
      "outputs": [],
      "source": [
        "class Bayes:\n",
        "    def train(self, train_images, train_lables):\n",
        "        dim = 784    # 28 * 28\n",
        "        self.gaussian = {}\n",
        "        self.label_pros = {}\n",
        "        self.labels = set(train_labels)\n",
        "        smoothing = 1e3\n",
        "        from scipy.stats import multivariate_normal\n",
        "        data=np.reshape(train_images,(-1,dim))\n",
        "        for label in self.labels:\n",
        "            target = train_labels==label\n",
        "            x_sample = data[target]\n",
        "            self.gaussian[label]= {'mean':x_sample.mean(axis=0),'variance':x_sample.var(axis=0)+smoothing}\n",
        "            self.label_pros[label]= np.sum(target)/len(target)\n",
        "            \n",
        "    def calc_accuracy(self, images, labels):\n",
        "        pred=self.predict_labels(images)\n",
        "        acc=np.mean(pred==labels)\n",
        "        return acc\n",
        "        \n",
        "    def predict_labels(self, images):\n",
        "        k=len(self.label_pros)\n",
        "        N,_ = images.shape # N=10000\n",
        "        Probability = np.zeros((k,N))\n",
        "        from scipy.stats import multivariate_normal\n",
        "        from future.utils import iteritems\n",
        "        for c in self.gaussian:\n",
        "            mean,var = self.gaussian[c]['mean'],self.gaussian[c]['variance']\n",
        "            Probability[c,:] = multivariate_normal.logpdf(images, mean=mean, cov=var) + np.log(self.label_pros[c])\n",
        "        return np.argmax(Probability, axis=0)\n",
        "        "
      ]
    },
    {
      "cell_type": "code",
      "execution_count": null,
      "metadata": {
        "id": "_f9dnIkJDSXm"
      },
      "outputs": [],
      "source": [
        "network = Bayes()\n",
        "network.train(train_images, train_labels)"
      ]
    },
    {
      "cell_type": "markdown",
      "metadata": {
        "id": "h2TY6X0gDSXm"
      },
      "source": [
        "## Model Evaluation"
      ]
    },
    {
      "cell_type": "code",
      "execution_count": null,
      "metadata": {
        "colab": {
          "base_uri": "https://localhost:8080/"
        },
        "id": "A6UmQdprDSXn",
        "outputId": "f3c188c9-19ce-4c7d-e95e-f91932d5fdb0"
      },
      "outputs": [
        {
          "output_type": "stream",
          "name": "stdout",
          "text": [
            "Accuracy on test data (%) : 81.5\n"
          ]
        }
      ],
      "source": [
        "print(\"Accuracy on test data (%) : \" + str(network.calc_accuracy(np.reshape(test_images,(-1,784)), test_labels) * 100))"
      ]
    }
  ],
  "metadata": {
    "interpreter": {
      "hash": "f336af7d54ba0f0c1daaf2256eb85f31e983e88153daf7a27ef3ea6c724faba4"
    },
    "kernelspec": {
      "display_name": "Python 3 (ipykernel)",
      "language": "python",
      "name": "python3"
    },
    "language_info": {
      "codemirror_mode": {
        "name": "ipython",
        "version": 3
      },
      "file_extension": ".py",
      "mimetype": "text/x-python",
      "name": "python",
      "nbconvert_exporter": "python",
      "pygments_lexer": "ipython3",
      "version": "3.8.10"
    },
    "colab": {
      "name": "Q1.ipynb",
      "provenance": [],
      "collapsed_sections": []
    }
  },
  "nbformat": 4,
  "nbformat_minor": 0
}